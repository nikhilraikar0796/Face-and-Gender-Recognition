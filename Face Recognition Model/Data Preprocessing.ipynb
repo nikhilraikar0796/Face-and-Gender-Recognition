{
 "cells": [
  {
   "cell_type": "code",
   "execution_count": 2,
   "id": "40cbc7e3",
   "metadata": {},
   "outputs": [],
   "source": [
    "import numpy as np\n",
    "import pandas as pd\n",
    "import matplotlib.pyplot as plt\n",
    "import seaborn as sns\n",
    "import cv2\n",
    "%matplotlib inline\n",
    "from PIL import Image\n",
    "import pickle"
   ]
  },
  {
   "cell_type": "code",
   "execution_count": 3,
   "id": "03d6295f",
   "metadata": {},
   "outputs": [
    {
     "data": {
      "text/html": [
       "<div>\n",
       "<style scoped>\n",
       "    .dataframe tbody tr th:only-of-type {\n",
       "        vertical-align: middle;\n",
       "    }\n",
       "\n",
       "    .dataframe tbody tr th {\n",
       "        vertical-align: top;\n",
       "    }\n",
       "\n",
       "    .dataframe thead th {\n",
       "        text-align: right;\n",
       "    }\n",
       "</style>\n",
       "<table border=\"1\" class=\"dataframe\">\n",
       "  <thead>\n",
       "    <tr style=\"text-align: right;\">\n",
       "      <th></th>\n",
       "      <th>gender</th>\n",
       "      <th>0</th>\n",
       "      <th>1</th>\n",
       "      <th>2</th>\n",
       "      <th>3</th>\n",
       "      <th>4</th>\n",
       "      <th>5</th>\n",
       "      <th>6</th>\n",
       "      <th>7</th>\n",
       "      <th>8</th>\n",
       "      <th>...</th>\n",
       "      <th>9990</th>\n",
       "      <th>9991</th>\n",
       "      <th>9992</th>\n",
       "      <th>9993</th>\n",
       "      <th>9994</th>\n",
       "      <th>9995</th>\n",
       "      <th>9996</th>\n",
       "      <th>9997</th>\n",
       "      <th>9998</th>\n",
       "      <th>9999</th>\n",
       "    </tr>\n",
       "  </thead>\n",
       "  <tbody>\n",
       "    <tr>\n",
       "      <th>0</th>\n",
       "      <td>male</td>\n",
       "      <td>106</td>\n",
       "      <td>100</td>\n",
       "      <td>81</td>\n",
       "      <td>69</td>\n",
       "      <td>71</td>\n",
       "      <td>48</td>\n",
       "      <td>51</td>\n",
       "      <td>55</td>\n",
       "      <td>41</td>\n",
       "      <td>...</td>\n",
       "      <td>17</td>\n",
       "      <td>18</td>\n",
       "      <td>26</td>\n",
       "      <td>28</td>\n",
       "      <td>31</td>\n",
       "      <td>30</td>\n",
       "      <td>31</td>\n",
       "      <td>29</td>\n",
       "      <td>31</td>\n",
       "      <td>31</td>\n",
       "    </tr>\n",
       "    <tr>\n",
       "      <th>1</th>\n",
       "      <td>male</td>\n",
       "      <td>45</td>\n",
       "      <td>47</td>\n",
       "      <td>48</td>\n",
       "      <td>48</td>\n",
       "      <td>48</td>\n",
       "      <td>49</td>\n",
       "      <td>50</td>\n",
       "      <td>52</td>\n",
       "      <td>50</td>\n",
       "      <td>...</td>\n",
       "      <td>137</td>\n",
       "      <td>135</td>\n",
       "      <td>134</td>\n",
       "      <td>135</td>\n",
       "      <td>138</td>\n",
       "      <td>138</td>\n",
       "      <td>137</td>\n",
       "      <td>138</td>\n",
       "      <td>138</td>\n",
       "      <td>135</td>\n",
       "    </tr>\n",
       "    <tr>\n",
       "      <th>2</th>\n",
       "      <td>male</td>\n",
       "      <td>165</td>\n",
       "      <td>184</td>\n",
       "      <td>209</td>\n",
       "      <td>224</td>\n",
       "      <td>220</td>\n",
       "      <td>211</td>\n",
       "      <td>193</td>\n",
       "      <td>170</td>\n",
       "      <td>153</td>\n",
       "      <td>...</td>\n",
       "      <td>14</td>\n",
       "      <td>14</td>\n",
       "      <td>14</td>\n",
       "      <td>13</td>\n",
       "      <td>13</td>\n",
       "      <td>14</td>\n",
       "      <td>14</td>\n",
       "      <td>14</td>\n",
       "      <td>14</td>\n",
       "      <td>15</td>\n",
       "    </tr>\n",
       "    <tr>\n",
       "      <th>3</th>\n",
       "      <td>male</td>\n",
       "      <td>141</td>\n",
       "      <td>143</td>\n",
       "      <td>148</td>\n",
       "      <td>156</td>\n",
       "      <td>161</td>\n",
       "      <td>173</td>\n",
       "      <td>157</td>\n",
       "      <td>138</td>\n",
       "      <td>146</td>\n",
       "      <td>...</td>\n",
       "      <td>205</td>\n",
       "      <td>203</td>\n",
       "      <td>173</td>\n",
       "      <td>86</td>\n",
       "      <td>72</td>\n",
       "      <td>60</td>\n",
       "      <td>46</td>\n",
       "      <td>59</td>\n",
       "      <td>88</td>\n",
       "      <td>148</td>\n",
       "    </tr>\n",
       "    <tr>\n",
       "      <th>4</th>\n",
       "      <td>male</td>\n",
       "      <td>180</td>\n",
       "      <td>115</td>\n",
       "      <td>41</td>\n",
       "      <td>103</td>\n",
       "      <td>23</td>\n",
       "      <td>25</td>\n",
       "      <td>36</td>\n",
       "      <td>35</td>\n",
       "      <td>25</td>\n",
       "      <td>...</td>\n",
       "      <td>112</td>\n",
       "      <td>110</td>\n",
       "      <td>104</td>\n",
       "      <td>112</td>\n",
       "      <td>86</td>\n",
       "      <td>83</td>\n",
       "      <td>116</td>\n",
       "      <td>126</td>\n",
       "      <td>111</td>\n",
       "      <td>113</td>\n",
       "    </tr>\n",
       "  </tbody>\n",
       "</table>\n",
       "<p>5 rows × 10001 columns</p>\n",
       "</div>"
      ],
      "text/plain": [
       "  gender    0    1    2    3    4    5    6    7    8  ...  9990  9991  9992  \\\n",
       "0   male  106  100   81   69   71   48   51   55   41  ...    17    18    26   \n",
       "1   male   45   47   48   48   48   49   50   52   50  ...   137   135   134   \n",
       "2   male  165  184  209  224  220  211  193  170  153  ...    14    14    14   \n",
       "3   male  141  143  148  156  161  173  157  138  146  ...   205   203   173   \n",
       "4   male  180  115   41  103   23   25   36   35   25  ...   112   110   104   \n",
       "\n",
       "   9993  9994  9995  9996  9997  9998  9999  \n",
       "0    28    31    30    31    29    31    31  \n",
       "1   135   138   138   137   138   138   135  \n",
       "2    13    13    14    14    14    14    15  \n",
       "3    86    72    60    46    59    88   148  \n",
       "4   112    86    83   116   126   111   113  \n",
       "\n",
       "[5 rows x 10001 columns]"
      ]
     },
     "execution_count": 3,
     "metadata": {},
     "output_type": "execute_result"
    }
   ],
   "source": [
    "df = pickle.load(open('./data/dataframe_images_100_100.pickle' , 'rb'))\n",
    "df.head()"
   ]
  },
  {
   "cell_type": "code",
   "execution_count": 4,
   "id": "9d321e9f",
   "metadata": {},
   "outputs": [
    {
     "name": "stdout",
     "output_type": "stream",
     "text": [
      "<class 'pandas.core.frame.DataFrame'>\n",
      "Index: 5454 entries, 0 to 6057\n",
      "Columns: 10001 entries, gender to 9999\n",
      "dtypes: object(1), uint8(10000)\n",
      "memory usage: 52.1+ MB\n"
     ]
    }
   ],
   "source": [
    "df.info()"
   ]
  },
  {
   "cell_type": "code",
   "execution_count": 5,
   "id": "11cb772e",
   "metadata": {},
   "outputs": [
    {
     "data": {
      "text/plain": [
       "gender    0\n",
       "0         0\n",
       "1         0\n",
       "2         0\n",
       "3         0\n",
       "         ..\n",
       "9995      0\n",
       "9996      0\n",
       "9997      0\n",
       "9998      0\n",
       "9999      0\n",
       "Length: 10001, dtype: int64"
      ]
     },
     "execution_count": 5,
     "metadata": {},
     "output_type": "execute_result"
    }
   ],
   "source": [
    "## Checking for missing values\n",
    "df.isnull().sum()"
   ]
  },
  {
   "cell_type": "code",
   "execution_count": 6,
   "id": "9812aee8",
   "metadata": {},
   "outputs": [],
   "source": [
    "## Split the data into two parts\n",
    "X = df.iloc[:,1:].values ## Independent features\n",
    "y = df.iloc[:,0].values ## Dependent features\n"
   ]
  },
  {
   "cell_type": "code",
   "execution_count": 7,
   "id": "abf97090",
   "metadata": {},
   "outputs": [
    {
     "data": {
      "text/plain": [
       "(5454, 10000)"
      ]
     },
     "execution_count": 7,
     "metadata": {},
     "output_type": "execute_result"
    }
   ],
   "source": [
    "X.shape"
   ]
  },
  {
   "cell_type": "code",
   "execution_count": 9,
   "id": "39b1f94f",
   "metadata": {},
   "outputs": [],
   "source": [
    "## MIn Max Scaling\n",
    "\n",
    "##Xnorm = x - min/(max-min)"
   ]
  },
  {
   "cell_type": "code",
   "execution_count": 10,
   "id": "a821d030",
   "metadata": {},
   "outputs": [
    {
     "data": {
      "text/plain": [
       "(0, 255)"
      ]
     },
     "execution_count": 10,
     "metadata": {},
     "output_type": "execute_result"
    }
   ],
   "source": [
    "X.min() , X.max()"
   ]
  },
  {
   "cell_type": "code",
   "execution_count": 15,
   "id": "bf8fb74b",
   "metadata": {},
   "outputs": [],
   "source": [
    "Xnorm = X / X.max()"
   ]
  },
  {
   "cell_type": "code",
   "execution_count": 16,
   "id": "72ae0057",
   "metadata": {},
   "outputs": [
    {
     "data": {
      "text/plain": [
       "array([[0.41568627, 0.39215686, 0.31764706, ..., 0.11372549, 0.12156863,\n",
       "        0.12156863],\n",
       "       [0.17647059, 0.18431373, 0.18823529, ..., 0.54117647, 0.54117647,\n",
       "        0.52941176],\n",
       "       [0.64705882, 0.72156863, 0.81960784, ..., 0.05490196, 0.05490196,\n",
       "        0.05882353],\n",
       "       ...,\n",
       "       [0.26666667, 0.25490196, 0.16862745, ..., 0.1372549 , 0.18039216,\n",
       "        0.18039216],\n",
       "       [0.73333333, 0.7372549 , 0.74509804, ..., 0.17647059, 0.16078431,\n",
       "        0.19215686],\n",
       "       [0.        , 0.        , 0.        , ..., 0.00784314, 0.00784314,\n",
       "        0.03529412]])"
      ]
     },
     "execution_count": 16,
     "metadata": {},
     "output_type": "execute_result"
    }
   ],
   "source": [
    "Xnorm"
   ]
  },
  {
   "cell_type": "code",
   "execution_count": 17,
   "id": "7771c738",
   "metadata": {},
   "outputs": [
    {
     "data": {
      "text/plain": [
       "(5454, 10000)"
      ]
     },
     "execution_count": 17,
     "metadata": {},
     "output_type": "execute_result"
    }
   ],
   "source": [
    "Xnorm.shape"
   ]
  },
  {
   "cell_type": "code",
   "execution_count": 18,
   "id": "552fcc23",
   "metadata": {},
   "outputs": [
    {
     "data": {
      "text/plain": [
       "array(['male', 'male', 'male', ..., 'female', 'female', 'female'],\n",
       "      dtype=object)"
      ]
     },
     "execution_count": 18,
     "metadata": {},
     "output_type": "execute_result"
    }
   ],
   "source": [
    "y"
   ]
  },
  {
   "cell_type": "code",
   "execution_count": 19,
   "id": "6f186d8c",
   "metadata": {},
   "outputs": [],
   "source": [
    "y_norm = np.where(y == 'female' , 1 , 0)"
   ]
  },
  {
   "cell_type": "code",
   "execution_count": 20,
   "id": "8b77fd6b",
   "metadata": {},
   "outputs": [],
   "source": [
    "## Saving X and Y\n",
    "\n",
    "np.savez('./data/data_100_100_norm' , Xnorm , y_norm)"
   ]
  },
  {
   "cell_type": "code",
   "execution_count": null,
   "id": "46358fdb",
   "metadata": {},
   "outputs": [],
   "source": []
  }
 ],
 "metadata": {
  "kernelspec": {
   "display_name": "Python 3 (ipykernel)",
   "language": "python",
   "name": "python3"
  },
  "language_info": {
   "codemirror_mode": {
    "name": "ipython",
    "version": 3
   },
   "file_extension": ".py",
   "mimetype": "text/x-python",
   "name": "python",
   "nbconvert_exporter": "python",
   "pygments_lexer": "ipython3",
   "version": "3.11.5"
  }
 },
 "nbformat": 4,
 "nbformat_minor": 5
}
